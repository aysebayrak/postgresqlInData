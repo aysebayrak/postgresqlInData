{
 "cells": [
  {
   "cell_type": "code",
   "execution_count": 2,
   "id": "b881c585-6d70-492b-8244-65423232c5ab",
   "metadata": {},
   "outputs": [
    {
     "name": "stdout",
     "output_type": "stream",
     "text": [
      "Defaulting to user installation because normal site-packages is not writeable\n",
      "Requirement already satisfied: psycopg2 in c:\\users\\ayseb\\appdata\\roaming\\python\\python310\\site-packages (2.9.9)\n"
     ]
    }
   ],
   "source": [
    "!pip install psycopg2"
   ]
  },
  {
   "cell_type": "code",
   "execution_count": 4,
   "id": "d1864218-acde-4bc0-9db4-ebe2345b13d2",
   "metadata": {},
   "outputs": [],
   "source": [
    "import psycopg2"
   ]
  },
  {
   "cell_type": "code",
   "execution_count": 10,
   "id": "cb266728-b743-4f54-9d0c-626054f320bd",
   "metadata": {},
   "outputs": [],
   "source": [
    "try :\n",
    "    conn = psycopg2.connect(\"host=127.0.0.1 dbname=postgres user=postgres password=12345\")\n",
    "except psycopg2.Error as e:\n",
    "    print(\"hata\")\n",
    "    print(e)"
   ]
  },
  {
   "cell_type": "code",
   "execution_count": 11,
   "id": "0eb3efcf",
   "metadata": {},
   "outputs": [],
   "source": [
    "try:\n",
    "    cur = conn.cursor()\n",
    "except psycopg2.Error as e :\n",
    "    print(\"hata\")\n",
    "    print(e)\n",
    "    "
   ]
  },
  {
   "cell_type": "code",
   "execution_count": 13,
   "id": "724cd5fb",
   "metadata": {},
   "outputs": [],
   "source": [
    "conn.set_session (autocommit=True)"
   ]
  },
  {
   "cell_type": "code",
   "execution_count": 15,
   "id": "47ca4e59",
   "metadata": {},
   "outputs": [],
   "source": [
    "try:\n",
    "    cur.execute(\"create database myfirstdb\")\n",
    "except psycopg2.Error as e:\n",
    "    print(e)"
   ]
  },
  {
   "cell_type": "code",
   "execution_count": 17,
   "id": "816fdc14",
   "metadata": {},
   "outputs": [],
   "source": [
    " try:\n",
    "        conn.close()\n",
    "except psycopg2.Error as e:\n",
    "    print(e)\n",
    "\n",
    "try :\n",
    "    conn = psycopg2.connect(\"host=127.0.0.1 dbname=myfirstdb user=postgres password=12345\")\n",
    "except psycopg2.Error as e:\n",
    "    print(\"hata\")\n",
    "    print(e)\n",
    "    \n",
    "\n",
    "try:\n",
    "    cur = conn.cursor()\n",
    "except psycopg2.Error as e :\n",
    "    print(\"hata\")\n",
    "    print(e)\n",
    "    \n",
    "conn.set_session (autocommit=True)"
   ]
  },
  {
   "cell_type": "code",
   "execution_count": 18,
   "id": "5e4ea650",
   "metadata": {},
   "outputs": [],
   "source": [
    "try:\n",
    "    cur.execute(\"CREATE TABLE IF NOT EXISTS students (student_id int , name varchar, \\\n",
    "    age int , gender varchar , subject varchar , marks int);\")\n",
    "except psycopg2.Error as e:\n",
    "    print(\"Error: Issue creating table\")\n",
    "    print(e)\n",
    "    "
   ]
  },
  {
   "cell_type": "code",
   "execution_count": 23,
   "id": "5e908876",
   "metadata": {},
   "outputs": [],
   "source": [
    "try:\n",
    "    cur.execute(\"INSERT INTO students (student_id , name , age , gender , subject , marks) VALUES (%s ,%s,%s,%s,%s ,%s)\",(1,\"Raj\",23,\"Male\",\"Python\", 85))\n",
    "except psycopg2.Error as e:\n",
    "    print(\"Error: Inserting Rows\")\n",
    "    print(e)\n",
    "    \n",
    "    \n",
    "try:\n",
    "    cur.execute(\"INSERT INTO students (student_id , name , age , gender , subject , marks)  VALUES (%s ,%s,%s,%s,%s ,%s)\" , (2,\"Ayşe\",23,\"Male\",\".Net\", 85))\n",
    "except psycopg2.Error as e:\n",
    "    print(\"Error: Inserting Rows\")\n",
    "    print(e)\n"
   ]
  },
  {
   "cell_type": "code",
   "execution_count": 24,
   "id": "8392e23c",
   "metadata": {},
   "outputs": [
    {
     "name": "stdout",
     "output_type": "stream",
     "text": [
      "(1, 'Raj', 23, 'Male', 'Python', 85)\n",
      "(2, 'Ayşe', 23, 'Male', '.Net', 85)\n"
     ]
    }
   ],
   "source": [
    "try:\n",
    "    cur.execute(\"Select * From students\")\n",
    "except psycopg2.Errors as e:\n",
    "    print(\"Error : select *\")\n",
    "    print(e)\n",
    "row = cur.fetchone()\n",
    "while row:\n",
    "    print(row)\n",
    "    row= cur.fetchone()"
   ]
  },
  {
   "cell_type": "code",
   "execution_count": 25,
   "id": "c42dc7da",
   "metadata": {},
   "outputs": [],
   "source": [
    "cur.close()\n",
    "conn.close()"
   ]
  },
  {
   "cell_type": "code",
   "execution_count": null,
   "id": "f864e232",
   "metadata": {},
   "outputs": [],
   "source": []
  }
 ],
 "metadata": {
  "kernelspec": {
   "display_name": "Python 3 (ipykernel)",
   "language": "python",
   "name": "python3"
  },
  "language_info": {
   "codemirror_mode": {
    "name": "ipython",
    "version": 3
   },
   "file_extension": ".py",
   "mimetype": "text/x-python",
   "name": "python",
   "nbconvert_exporter": "python",
   "pygments_lexer": "ipython3",
   "version": "3.10.9"
  }
 },
 "nbformat": 4,
 "nbformat_minor": 5
}
